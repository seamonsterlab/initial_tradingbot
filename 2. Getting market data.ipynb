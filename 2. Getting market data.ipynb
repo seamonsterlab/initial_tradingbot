{
 "cells": [
  {
   "cell_type": "code",
   "execution_count": 3,
   "id": "abd4dc10",
   "metadata": {},
   "outputs": [],
   "source": [
    "api_key = \"jiaHs9nkNEzJMjNC6XtICaQMx1reQqRQapYn3LsoJeRkWpZAFwuIrSoZuDmH9O9g\"\n",
    "secret_key = \"w7z2c13PpmK4e7Y7eiwg81dCB83BHuO2bZEQNq65EQB5ByHFPABEPSamwtdxYNj2\""
   ]
  },
  {
   "cell_type": "code",
   "execution_count": 4,
   "id": "0ddf8004",
   "metadata": {},
   "outputs": [],
   "source": [
    "import pandas as pd #import pandas\n",
    "from binance.client import Client"
   ]
  },
  {
   "cell_type": "code",
   "execution_count": 5,
   "id": "5b4eb8cc",
   "metadata": {},
   "outputs": [],
   "source": [
    "client = Client(api_key = api_key, api_secret = secret_key, tld = \"com\")"
   ]
  },
  {
   "cell_type": "markdown",
   "id": "9a0e0c75",
   "metadata": {},
   "source": [
    "# Current Prices"
   ]
  },
  {
   "cell_type": "code",
   "execution_count": 6,
   "id": "b920a6a2",
   "metadata": {},
   "outputs": [
    {
     "data": {
      "text/plain": [
       "{'symbol': 'BTCUSDT', 'price': '38694.28000000'}"
      ]
     },
     "execution_count": 6,
     "metadata": {},
     "output_type": "execute_result"
    }
   ],
   "source": [
    "client.get_symbol_ticker(symbol = \"BTCUSDT\") #current prices for one symbol"
   ]
  },
  {
   "cell_type": "code",
   "execution_count": 7,
   "id": "378729b4",
   "metadata": {},
   "outputs": [
    {
     "data": {
      "text/plain": [
       "38739.0"
      ]
     },
     "execution_count": 7,
     "metadata": {},
     "output_type": "execute_result"
    }
   ],
   "source": [
    "float(client.get_symbol_ticker(symbol = \"BTCUSDT\")[\"price\"]) #change string to float "
   ]
  },
  {
   "cell_type": "code",
   "execution_count": 8,
   "id": "ed7e6199",
   "metadata": {},
   "outputs": [
    {
     "data": {
      "text/plain": [
       "{'mins': 5, 'price': '38725.73187123'}"
      ]
     },
     "execution_count": 8,
     "metadata": {},
     "output_type": "execute_result"
    }
   ],
   "source": [
    "client.get_avg_price(symbol = \"BTCUSDT\") #current avg price"
   ]
  },
  {
   "cell_type": "code",
   "execution_count": 10,
   "id": "18dcfb34",
   "metadata": {
    "scrolled": true
   },
   "outputs": [
    {
     "data": {
      "text/html": [
       "<div>\n",
       "<style scoped>\n",
       "    .dataframe tbody tr th:only-of-type {\n",
       "        vertical-align: middle;\n",
       "    }\n",
       "\n",
       "    .dataframe tbody tr th {\n",
       "        vertical-align: top;\n",
       "    }\n",
       "\n",
       "    .dataframe thead th {\n",
       "        text-align: right;\n",
       "    }\n",
       "</style>\n",
       "<table border=\"1\" class=\"dataframe\">\n",
       "  <thead>\n",
       "    <tr style=\"text-align: right;\">\n",
       "      <th></th>\n",
       "      <th>symbol</th>\n",
       "      <th>price</th>\n",
       "    </tr>\n",
       "  </thead>\n",
       "  <tbody>\n",
       "    <tr>\n",
       "      <th>0</th>\n",
       "      <td>ETHBTC</td>\n",
       "      <td>0.07212600</td>\n",
       "    </tr>\n",
       "    <tr>\n",
       "      <th>1</th>\n",
       "      <td>LTCBTC</td>\n",
       "      <td>0.00297300</td>\n",
       "    </tr>\n",
       "    <tr>\n",
       "      <th>2</th>\n",
       "      <td>BNBBTC</td>\n",
       "      <td>0.00995900</td>\n",
       "    </tr>\n",
       "    <tr>\n",
       "      <th>3</th>\n",
       "      <td>NEOBTC</td>\n",
       "      <td>0.00052600</td>\n",
       "    </tr>\n",
       "    <tr>\n",
       "      <th>4</th>\n",
       "      <td>QTUMETH</td>\n",
       "      <td>0.00226900</td>\n",
       "    </tr>\n",
       "    <tr>\n",
       "      <th>...</th>\n",
       "      <td>...</td>\n",
       "      <td>...</td>\n",
       "    </tr>\n",
       "    <tr>\n",
       "      <th>1923</th>\n",
       "      <td>XNOUSDT</td>\n",
       "      <td>2.15000000</td>\n",
       "    </tr>\n",
       "    <tr>\n",
       "      <th>1924</th>\n",
       "      <td>COSTRY</td>\n",
       "      <td>0.23520000</td>\n",
       "    </tr>\n",
       "    <tr>\n",
       "      <th>1925</th>\n",
       "      <td>KAVAETH</td>\n",
       "      <td>0.00118800</td>\n",
       "    </tr>\n",
       "    <tr>\n",
       "      <th>1926</th>\n",
       "      <td>MCBNB</td>\n",
       "      <td>0.00618500</td>\n",
       "    </tr>\n",
       "    <tr>\n",
       "      <th>1927</th>\n",
       "      <td>ONETRY</td>\n",
       "      <td>2.53900000</td>\n",
       "    </tr>\n",
       "  </tbody>\n",
       "</table>\n",
       "<p>1928 rows × 2 columns</p>\n",
       "</div>"
      ],
      "text/plain": [
       "       symbol       price\n",
       "0      ETHBTC  0.07212600\n",
       "1      LTCBTC  0.00297300\n",
       "2      BNBBTC  0.00995900\n",
       "3      NEOBTC  0.00052600\n",
       "4     QTUMETH  0.00226900\n",
       "...       ...         ...\n",
       "1923  XNOUSDT  2.15000000\n",
       "1924   COSTRY  0.23520000\n",
       "1925  KAVAETH  0.00118800\n",
       "1926    MCBNB  0.00618500\n",
       "1927   ONETRY  2.53900000\n",
       "\n",
       "[1928 rows x 2 columns]"
      ]
     },
     "execution_count": 10,
     "metadata": {},
     "output_type": "execute_result"
    }
   ],
   "source": [
    "# get current prices for all pairs\n",
    "prices = client.get_all_tickers()\n",
    "df = pd.DataFrame(prices)\n",
    "df"
   ]
  },
  {
   "cell_type": "code",
   "execution_count": 12,
   "id": "f0692a6b",
   "metadata": {},
   "outputs": [
    {
     "data": {
      "text/html": [
       "<div>\n",
       "<style scoped>\n",
       "    .dataframe tbody tr th:only-of-type {\n",
       "        vertical-align: middle;\n",
       "    }\n",
       "\n",
       "    .dataframe tbody tr th {\n",
       "        vertical-align: top;\n",
       "    }\n",
       "\n",
       "    .dataframe thead th {\n",
       "        text-align: right;\n",
       "    }\n",
       "</style>\n",
       "<table border=\"1\" class=\"dataframe\">\n",
       "  <thead>\n",
       "    <tr style=\"text-align: right;\">\n",
       "      <th></th>\n",
       "      <th>symbol</th>\n",
       "      <th>price</th>\n",
       "    </tr>\n",
       "  </thead>\n",
       "  <tbody>\n",
       "    <tr>\n",
       "      <th>0</th>\n",
       "      <td>ETHBTC</td>\n",
       "      <td>0.07212600</td>\n",
       "    </tr>\n",
       "    <tr>\n",
       "      <th>4</th>\n",
       "      <td>QTUMETH</td>\n",
       "      <td>0.00226900</td>\n",
       "    </tr>\n",
       "    <tr>\n",
       "      <th>5</th>\n",
       "      <td>EOSETH</td>\n",
       "      <td>0.00085200</td>\n",
       "    </tr>\n",
       "    <tr>\n",
       "      <th>6</th>\n",
       "      <td>SNTETH</td>\n",
       "      <td>0.00001782</td>\n",
       "    </tr>\n",
       "    <tr>\n",
       "      <th>7</th>\n",
       "      <td>BNTETH</td>\n",
       "      <td>0.00090100</td>\n",
       "    </tr>\n",
       "    <tr>\n",
       "      <th>...</th>\n",
       "      <td>...</td>\n",
       "      <td>...</td>\n",
       "    </tr>\n",
       "    <tr>\n",
       "      <th>1894</th>\n",
       "      <td>UNIETH</td>\n",
       "      <td>0.00401800</td>\n",
       "    </tr>\n",
       "    <tr>\n",
       "      <th>1895</th>\n",
       "      <td>XTZETH</td>\n",
       "      <td>0.00134800</td>\n",
       "    </tr>\n",
       "    <tr>\n",
       "      <th>1902</th>\n",
       "      <td>CRVETH</td>\n",
       "      <td>0.00123000</td>\n",
       "    </tr>\n",
       "    <tr>\n",
       "      <th>1921</th>\n",
       "      <td>XNOETH</td>\n",
       "      <td>0.00076810</td>\n",
       "    </tr>\n",
       "    <tr>\n",
       "      <th>1925</th>\n",
       "      <td>KAVAETH</td>\n",
       "      <td>0.00118800</td>\n",
       "    </tr>\n",
       "  </tbody>\n",
       "</table>\n",
       "<p>221 rows × 2 columns</p>\n",
       "</div>"
      ],
      "text/plain": [
       "       symbol       price\n",
       "0      ETHBTC  0.07212600\n",
       "4     QTUMETH  0.00226900\n",
       "5      EOSETH  0.00085200\n",
       "6      SNTETH  0.00001782\n",
       "7      BNTETH  0.00090100\n",
       "...       ...         ...\n",
       "1894   UNIETH  0.00401800\n",
       "1895   XTZETH  0.00134800\n",
       "1902   CRVETH  0.00123000\n",
       "1921   XNOETH  0.00076810\n",
       "1925  KAVAETH  0.00118800\n",
       "\n",
       "[221 rows x 2 columns]"
      ]
     },
     "execution_count": 12,
     "metadata": {},
     "output_type": "execute_result"
    }
   ],
   "source": [
    "df[df.symbol.str.contains(\"ETH\")]"
   ]
  },
  {
   "cell_type": "code",
   "execution_count": 14,
   "id": "9201f2b9",
   "metadata": {},
   "outputs": [
    {
     "data": {
      "text/html": [
       "<div>\n",
       "<style scoped>\n",
       "    .dataframe tbody tr th:only-of-type {\n",
       "        vertical-align: middle;\n",
       "    }\n",
       "\n",
       "    .dataframe tbody tr th {\n",
       "        vertical-align: top;\n",
       "    }\n",
       "\n",
       "    .dataframe thead th {\n",
       "        text-align: right;\n",
       "    }\n",
       "</style>\n",
       "<table border=\"1\" class=\"dataframe\">\n",
       "  <thead>\n",
       "    <tr style=\"text-align: right;\">\n",
       "      <th></th>\n",
       "      <th>symbol</th>\n",
       "      <th>price</th>\n",
       "    </tr>\n",
       "  </thead>\n",
       "  <tbody>\n",
       "    <tr>\n",
       "      <th>12</th>\n",
       "      <td>ETHUSDT</td>\n",
       "      <td>2789.74000000</td>\n",
       "    </tr>\n",
       "    <tr>\n",
       "      <th>705</th>\n",
       "      <td>ETHBULLUSDT</td>\n",
       "      <td>79.18000000</td>\n",
       "    </tr>\n",
       "    <tr>\n",
       "      <th>707</th>\n",
       "      <td>ETHBEARUSDT</td>\n",
       "      <td>12.20000000</td>\n",
       "    </tr>\n",
       "    <tr>\n",
       "      <th>850</th>\n",
       "      <td>ETHUPUSDT</td>\n",
       "      <td>29.80000000</td>\n",
       "    </tr>\n",
       "    <tr>\n",
       "      <th>851</th>\n",
       "      <td>ETHDOWNUSDT</td>\n",
       "      <td>1.03790000</td>\n",
       "    </tr>\n",
       "  </tbody>\n",
       "</table>\n",
       "</div>"
      ],
      "text/plain": [
       "          symbol          price\n",
       "12       ETHUSDT  2789.74000000\n",
       "705  ETHBULLUSDT    79.18000000\n",
       "707  ETHBEARUSDT    12.20000000\n",
       "850    ETHUPUSDT    29.80000000\n",
       "851  ETHDOWNUSDT     1.03790000"
      ]
     },
     "execution_count": 14,
     "metadata": {},
     "output_type": "execute_result"
    }
   ],
   "source": [
    "df[df.symbol.str.contains(\"ETH\") & df.symbol.str.contains(\"USDT\")]"
   ]
  },
  {
   "cell_type": "code",
   "execution_count": 24,
   "id": "02381eca",
   "metadata": {},
   "outputs": [
    {
     "data": {
      "text/plain": [
       "{'symbol': 'BTCUSDT',\n",
       " 'priceChange': '153.70000000',\n",
       " 'priceChangePercent': '0.399',\n",
       " 'weightedAvgPrice': '38608.07909725',\n",
       " 'prevClosePrice': '38487.72000000',\n",
       " 'lastPrice': '38640.13000000',\n",
       " 'lastQty': '0.00100000',\n",
       " 'bidPrice': '38641.42000000',\n",
       " 'bidQty': '0.71641000',\n",
       " 'askPrice': '38641.43000000',\n",
       " 'askQty': '0.25675000',\n",
       " 'openPrice': '38486.43000000',\n",
       " 'highPrice': '39265.20000000',\n",
       " 'lowPrice': '38000.00000000',\n",
       " 'volume': '34614.55844000',\n",
       " 'quoteVolume': '1336401610.16773040',\n",
       " 'openTime': 1643686472093,\n",
       " 'closeTime': 1643772872093,\n",
       " 'firstId': 1242525638,\n",
       " 'lastId': 1243439155,\n",
       " 'count': 913518}"
      ]
     },
     "execution_count": 24,
     "metadata": {},
     "output_type": "execute_result"
    }
   ],
   "source": [
    "last24 = client.get_ticker(symbol = \"BTCUSDT\") #24h price change statistics\n",
    "last24\n"
   ]
  },
  {
   "cell_type": "code",
   "execution_count": 25,
   "id": "ce796602",
   "metadata": {},
   "outputs": [
    {
     "data": {
      "text/plain": [
       "Timestamp('2022-02-01 03:34:32.093000')"
      ]
     },
     "execution_count": 25,
     "metadata": {},
     "output_type": "execute_result"
    }
   ],
   "source": [
    "last24[\"openTime\"]\n",
    "pd.to_datetime(last24[\"openTime\"], unit =\"ms\")"
   ]
  },
  {
   "cell_type": "code",
   "execution_count": 17,
   "id": "c0714bd3",
   "metadata": {},
   "outputs": [
    {
     "data": {
      "text/plain": [
       "38505.35"
      ]
     },
     "execution_count": 17,
     "metadata": {},
     "output_type": "execute_result"
    }
   ],
   "source": [
    "# open price for last 24 hours\n",
    "open_price = float(last24[\"openPrice\"])\n",
    "open_price"
   ]
  },
  {
   "cell_type": "code",
   "execution_count": 19,
   "id": "32f99545",
   "metadata": {},
   "outputs": [
    {
     "data": {
      "text/plain": [
       "38678.03"
      ]
     },
     "execution_count": 19,
     "metadata": {},
     "output_type": "execute_result"
    }
   ],
   "source": [
    "# close price for last 24 hours\n",
    "close_price = float(last24[\"lastPrice\"])\n",
    "close_price"
   ]
  },
  {
   "cell_type": "code",
   "execution_count": 20,
   "id": "22e54028",
   "metadata": {},
   "outputs": [
    {
     "data": {
      "text/plain": [
       "39265.2"
      ]
     },
     "execution_count": 20,
     "metadata": {},
     "output_type": "execute_result"
    }
   ],
   "source": [
    "high_price = float(last24[\"highPrice\"])\n",
    "high_price"
   ]
  },
  {
   "cell_type": "code",
   "execution_count": 26,
   "id": "61d24717",
   "metadata": {},
   "outputs": [
    {
     "data": {
      "text/plain": [
       "38000.0"
      ]
     },
     "execution_count": 26,
     "metadata": {},
     "output_type": "execute_result"
    }
   ],
   "source": [
    "low_price = float(last24[\"lowPrice\"])\n",
    "low_price"
   ]
  },
  {
   "cell_type": "code",
   "execution_count": null,
   "id": "99f5e438",
   "metadata": {},
   "outputs": [],
   "source": []
  },
  {
   "cell_type": "code",
   "execution_count": null,
   "id": "7cfbf255",
   "metadata": {},
   "outputs": [],
   "source": []
  }
 ],
 "metadata": {
  "kernelspec": {
   "display_name": "Python 3 (ipykernel)",
   "language": "python",
   "name": "python3"
  },
  "language_info": {
   "codemirror_mode": {
    "name": "ipython",
    "version": 3
   },
   "file_extension": ".py",
   "mimetype": "text/x-python",
   "name": "python",
   "nbconvert_exporter": "python",
   "pygments_lexer": "ipython3",
   "version": "3.9.7"
  }
 },
 "nbformat": 4,
 "nbformat_minor": 5
}
