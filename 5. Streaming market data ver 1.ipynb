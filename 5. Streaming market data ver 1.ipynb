{
 "cells": [
  {
   "cell_type": "code",
   "execution_count": 1,
   "id": "abd4dc10",
   "metadata": {},
   "outputs": [],
   "source": [
    "api_key = \"jiaHs9nkNEzJMjNC6XtICaQMx1reQqRQapYn3LsoJeRkWpZAFwuIrSoZuDmH9O9g\"\n",
    "secret_key = \"w7z2c13PpmK4e7Y7eiwg81dCB83BHuO2bZEQNq65EQB5ByHFPABEPSamwtdxYNj2\""
   ]
  },
  {
   "cell_type": "code",
   "execution_count": 2,
   "id": "0ddf8004",
   "metadata": {},
   "outputs": [],
   "source": [
    "import pandas as pd #import pandas\n",
    "from binance import ThreadedWebsocketManager\n",
    "from binance.client import Client"
   ]
  },
  {
   "cell_type": "code",
   "execution_count": 3,
   "id": "5b4eb8cc",
   "metadata": {},
   "outputs": [],
   "source": [
    "client = Client(api_key = api_key, api_secret = secret_key, tld = \"com\")"
   ]
  },
  {
   "cell_type": "markdown",
   "id": "9a0e0c75",
   "metadata": {},
   "source": [
    "# Streaming market data ver 1"
   ]
  },
  {
   "cell_type": "code",
   "execution_count": 4,
   "id": "fa99c7f8",
   "metadata": {},
   "outputs": [],
   "source": [
    "def stream_data(msg):\n",
    "    '''define how to process incoming websocket message'''\n",
    "    print(msg)"
   ]
  },
  {
   "cell_type": "code",
   "execution_count": 5,
   "id": "905e84cd",
   "metadata": {},
   "outputs": [],
   "source": [
    "# initialize and start the websocket\n",
    "twm = ThreadedWebsocketManager()\n",
    "twm.start()"
   ]
  },
  {
   "cell_type": "code",
   "execution_count": 6,
   "id": "7da6d15f",
   "metadata": {},
   "outputs": [
    {
     "data": {
      "text/plain": [
       "<ThreadedWebsocketManager(Thread-8, started 123145659711488)>"
      ]
     },
     "execution_count": 6,
     "metadata": {},
     "output_type": "execute_result"
    }
   ],
   "source": [
    "twm"
   ]
  },
  {
   "cell_type": "markdown",
   "id": "42494cbb",
   "metadata": {},
   "source": [
    "# Indiviual mini ticker stream\n",
    "24hr rolling window mini ticker statistics. these are not of UTC day, but a 24hr rolling window for previous 24hr"
   ]
  },
  {
   "cell_type": "code",
   "execution_count": 8,
   "id": "8679b08d",
   "metadata": {},
   "outputs": [
    {
     "data": {
      "text/plain": [
       "'btcusdt@miniTicker'"
      ]
     },
     "execution_count": 8,
     "metadata": {},
     "output_type": "execute_result"
    },
    {
     "name": "stdout",
     "output_type": "stream",
     "text": [
      "{'e': '24hrMiniTicker', 'E': 1643787593625, 's': 'BTCUSDT', 'c': '38275.00000000', 'o': '38445.43000000', 'h': '39265.20000000', 'l': '38000.00000000', 'v': '34528.39255000', 'q': '1332917794.27033410'}\n",
      "{'e': '24hrMiniTicker', 'E': 1643787594484, 's': 'BTCUSDT', 'c': '38275.01000000', 'o': '38445.42000000', 'h': '39265.20000000', 'l': '38000.00000000', 'v': '34528.64223000', 'q': '1332927350.31918120'}\n",
      "{'e': '24hrMiniTicker', 'E': 1643787595238, 's': 'BTCUSDT', 'c': '38275.00000000', 'o': '38445.42000000', 'h': '39265.20000000', 'l': '38000.00000000', 'v': '34528.64421000', 'q': '1332927426.10368120'}\n",
      "{'e': '24hrMiniTicker', 'E': 1643787596926, 's': 'BTCUSDT', 'c': '38275.00000000', 'o': '38439.47000000', 'h': '39265.20000000', 'l': '38000.00000000', 'v': '34528.47005000', 'q': '1332920730.96860490'}\n",
      "{'e': '24hrMiniTicker', 'E': 1643787597899, 's': 'BTCUSDT', 'c': '38275.05000000', 'o': '38439.48000000', 'h': '39265.20000000', 'l': '38000.00000000', 'v': '34528.44487000', 'q': '1332919761.97567380'}\n",
      "{'e': '24hrMiniTicker', 'E': 1643787598681, 's': 'BTCUSDT', 'c': '38275.05000000', 'o': '38439.47000000', 'h': '39265.20000000', 'l': '38000.00000000', 'v': '34528.43329000', 'q': '1332919315.51148970'}\n",
      "{'e': '24hrMiniTicker', 'E': 1643787599851, 's': 'BTCUSDT', 'c': '38275.58000000', 'o': '38439.48000000', 'h': '39265.20000000', 'l': '38000.00000000', 'v': '34528.39927000', 'q': '1332918006.65349030'}\n",
      "{'e': '24hrMiniTicker', 'E': 1643787600883, 's': 'BTCUSDT', 'c': '38275.59000000', 'o': '38440.46000000', 'h': '39265.20000000', 'l': '38000.00000000', 'v': '34528.33495000', 'q': '1332915518.04324520'}\n",
      "{'e': '24hrMiniTicker', 'E': 1643787601502, 's': 'BTCUSDT', 'c': '38275.59000000', 'o': '38439.41000000', 'h': '39265.20000000', 'l': '38000.00000000', 'v': '34527.49908000', 'q': '1332883386.92831720'}\n",
      "{'e': '24hrMiniTicker', 'E': 1643787602674, 's': 'BTCUSDT', 'c': '38275.97000000', 'o': '38439.40000000', 'h': '39265.20000000', 'l': '38000.00000000', 'v': '34527.66848000', 'q': '1332889868.18419190'}\n",
      "{'e': '24hrMiniTicker', 'E': 1643787603691, 's': 'BTCUSDT', 'c': '38275.96000000', 'o': '38439.41000000', 'h': '39265.20000000', 'l': '38000.00000000', 'v': '34527.66616000', 'q': '1332889778.14992000'}\n",
      "{'e': '24hrMiniTicker', 'E': 1643787604365, 's': 'BTCUSDT', 'c': '38275.98000000', 'o': '38439.40000000', 'h': '39265.20000000', 'l': '38000.00000000', 'v': '34527.59653000', 'q': '1332887098.85837180'}\n",
      "{'e': '24hrMiniTicker', 'E': 1643787605194, 's': 'BTCUSDT', 'c': '38275.97000000', 'o': '38439.40000000', 'h': '39265.20000000', 'l': '38000.00000000', 'v': '34527.90734000', 'q': '1332898993.66390350'}\n",
      "{'e': '24hrMiniTicker', 'E': 1643787606647, 's': 'BTCUSDT', 'c': '38275.98000000', 'o': '38439.41000000', 'h': '39265.20000000', 'l': '38000.00000000', 'v': '34527.92295000', 'q': '1332899590.01124370'}\n",
      "{'e': '24hrMiniTicker', 'E': 1643787607946, 's': 'BTCUSDT', 'c': '38283.58000000', 'o': '38442.51000000', 'h': '39265.20000000', 'l': '38000.00000000', 'v': '34528.66063000', 'q': '1332927802.98393860'}\n",
      "{'e': '24hrMiniTicker', 'E': 1643787608969, 's': 'BTCUSDT', 'c': '38283.58000000', 'o': '38445.43000000', 'h': '39265.20000000', 'l': '38000.00000000', 'v': '34528.66886000', 'q': '1332928086.56948590'}\n",
      "{'e': '24hrMiniTicker', 'E': 1643787609272, 's': 'BTCUSDT', 'c': '38286.18000000', 'o': '38446.59000000', 'h': '39265.20000000', 'l': '38000.00000000', 'v': '34528.72138000', 'q': '1332930095.59023290'}\n",
      "{'e': '24hrMiniTicker', 'E': 1643787610929, 's': 'BTCUSDT', 'c': '38292.93000000', 'o': '38445.08000000', 'h': '39265.20000000', 'l': '38000.00000000', 'v': '34529.26083000', 'q': '1332950710.90598460'}\n"
     ]
    }
   ],
   "source": [
    "#subscribe to the stream\n",
    "twm.start_symbol_miniticker_socket(callback = stream_data, symbol = \"BTCUSDT\")"
   ]
  },
  {
   "cell_type": "code",
   "execution_count": 9,
   "id": "528d74aa",
   "metadata": {},
   "outputs": [
    {
     "name": "stdout",
     "output_type": "stream",
     "text": [
      "{'e': '24hrMiniTicker', 'E': 1643787611470, 's': 'BTCUSDT', 'c': '38292.93000000', 'o': '38445.07000000', 'h': '39265.20000000', 'l': '38000.00000000', 'v': '34529.27352000', 'q': '1332951196.78380250'}\n"
     ]
    }
   ],
   "source": [
    "twm.stop()"
   ]
  },
  {
   "cell_type": "markdown",
   "id": "16e00ac2",
   "metadata": {},
   "source": [
    "  {\n",
    "    \"e\": \"24hrMiniTicker\",  // Event type\n",
    "    \"E\": 123456789,         // Event time\n",
    "    \"s\": \"BNBBTC\",          // Symbol\n",
    "    \"c\": \"0.0025\",          // Close price\n",
    "    \"o\": \"0.0010\",          // Open price\n",
    "    \"h\": \"0.0025\",          // High price\n",
    "    \"l\": \"0.0010\",          // Low price\n",
    "    \"v\": \"10000\",           // Total traded base asset volume\n",
    "    \"q\": \"18\"               // Total traded quote asset volume\n",
    "  }\n",
    "  \n",
    "  \n",
    "https://binance-docs.github.io/apidocs/spot/en/#kline-candlestick-streams"
   ]
  }
 ],
 "metadata": {
  "kernelspec": {
   "display_name": "Python 3 (ipykernel)",
   "language": "python",
   "name": "python3"
  },
  "language_info": {
   "codemirror_mode": {
    "name": "ipython",
    "version": 3
   },
   "file_extension": ".py",
   "mimetype": "text/x-python",
   "name": "python",
   "nbconvert_exporter": "python",
   "pygments_lexer": "ipython3",
   "version": "3.9.7"
  }
 },
 "nbformat": 4,
 "nbformat_minor": 5
}
