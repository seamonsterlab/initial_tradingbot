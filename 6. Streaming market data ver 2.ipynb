{
 "cells": [
  {
   "cell_type": "code",
   "execution_count": 9,
   "id": "abd4dc10",
   "metadata": {},
   "outputs": [],
   "source": [
    "api_key = \"jiaHs9nkNEzJMjNC6XtICaQMx1reQqRQapYn3LsoJeRkWpZAFwuIrSoZuDmH9O9g\"\n",
    "secret_key = \"w7z2c13PpmK4e7Y7eiwg81dCB83BHuO2bZEQNq65EQB5ByHFPABEPSamwtdxYNj2\""
   ]
  },
  {
   "cell_type": "code",
   "execution_count": 10,
   "id": "0ddf8004",
   "metadata": {},
   "outputs": [],
   "source": [
    "import pandas as pd #import pandas\n",
    "from binance import ThreadedWebsocketManager\n",
    "from binance.client import Client"
   ]
  },
  {
   "cell_type": "code",
   "execution_count": 11,
   "id": "5b4eb8cc",
   "metadata": {},
   "outputs": [],
   "source": [
    "client = Client(api_key = api_key, api_secret = secret_key, tld = \"com\")"
   ]
  },
  {
   "cell_type": "markdown",
   "id": "9a0e0c75",
   "metadata": {},
   "source": [
    "# Streaming market data ver 2"
   ]
  },
  {
   "cell_type": "code",
   "execution_count": 12,
   "id": "fa99c7f8",
   "metadata": {},
   "outputs": [],
   "source": [
    "def stream_data(msg):\n",
    "    '''define how to process incoming websocket message'''\n",
    "    time = pd.to_datetime(msg[\"E\"], unit = \"ms\")\n",
    "    price = msg[\"c\"]\n",
    "    print(\"Time: {} | Price: {}\".format(time, price))"
   ]
  },
  {
   "cell_type": "code",
   "execution_count": 13,
   "id": "905e84cd",
   "metadata": {},
   "outputs": [],
   "source": [
    "# initialize and start the websocket\n",
    "twm = ThreadedWebsocketManager()\n",
    "twm.start()"
   ]
  },
  {
   "cell_type": "code",
   "execution_count": 14,
   "id": "7da6d15f",
   "metadata": {},
   "outputs": [
    {
     "data": {
      "text/plain": [
       "<ThreadedWebsocketManager(Thread-9, started 123145660428288)>"
      ]
     },
     "execution_count": 14,
     "metadata": {},
     "output_type": "execute_result"
    }
   ],
   "source": [
    "twm"
   ]
  },
  {
   "cell_type": "markdown",
   "id": "42494cbb",
   "metadata": {},
   "source": [
    "# Indiviual mini ticker stream\n",
    "24hr rolling window mini ticker statistics. these are not of UTC day, but a 24hr rolling window for previous 24hr"
   ]
  },
  {
   "cell_type": "code",
   "execution_count": 15,
   "id": "8679b08d",
   "metadata": {},
   "outputs": [
    {
     "data": {
      "text/plain": [
       "'btcusdt@miniTicker'"
      ]
     },
     "execution_count": 15,
     "metadata": {},
     "output_type": "execute_result"
    },
    {
     "name": "stdout",
     "output_type": "stream",
     "text": [
      "Time: 2022-02-02 07:58:28.663000 | Price: 38265.28000000\n",
      "Time: 2022-02-02 07:58:29.629000 | Price: 38265.28000000\n",
      "Time: 2022-02-02 07:58:29.945000 | Price: 38265.28000000\n",
      "Time: 2022-02-02 07:58:31.677000 | Price: 38265.27000000\n",
      "Time: 2022-02-02 07:58:32.366000 | Price: 38265.28000000\n",
      "Time: 2022-02-02 07:58:33.807000 | Price: 38265.59000000\n",
      "Time: 2022-02-02 07:58:34.258000 | Price: 38268.43000000\n",
      "Time: 2022-02-02 07:58:35.345000 | Price: 38268.43000000\n",
      "Time: 2022-02-02 07:58:36.648000 | Price: 38268.42000000\n",
      "Time: 2022-02-02 07:58:37.472000 | Price: 38268.42000000\n",
      "Time: 2022-02-02 07:58:38.678000 | Price: 38268.42000000\n"
     ]
    }
   ],
   "source": [
    "#subscribe to the stream\n",
    "twm.start_symbol_miniticker_socket(callback = stream_data, symbol = \"BTCUSDT\")"
   ]
  },
  {
   "cell_type": "code",
   "execution_count": 16,
   "id": "528d74aa",
   "metadata": {},
   "outputs": [
    {
     "name": "stdout",
     "output_type": "stream",
     "text": [
      "Time: 2022-02-02 07:58:39.746000 | Price: 38260.00000000\n"
     ]
    }
   ],
   "source": [
    "twm.stop()"
   ]
  },
  {
   "cell_type": "markdown",
   "id": "16e00ac2",
   "metadata": {},
   "source": [
    "  {\n",
    "    \"e\": \"24hrMiniTicker\",  // Event type\n",
    "    \"E\": 123456789,         // Event time\n",
    "    \"s\": \"BNBBTC\",          // Symbol\n",
    "    \"c\": \"0.0025\",          // Close price\n",
    "    \"o\": \"0.0010\",          // Open price\n",
    "    \"h\": \"0.0025\",          // High price\n",
    "    \"l\": \"0.0010\",          // Low price\n",
    "    \"v\": \"10000\",           // Total traded base asset volume\n",
    "    \"q\": \"18\"               // Total traded quote asset volume\n",
    "  }\n",
    "  \n",
    "  \n",
    "https://binance-docs.github.io/apidocs/spot/en/#kline-candlestick-streams"
   ]
  }
 ],
 "metadata": {
  "kernelspec": {
   "display_name": "Python 3 (ipykernel)",
   "language": "python",
   "name": "python3"
  },
  "language_info": {
   "codemirror_mode": {
    "name": "ipython",
    "version": 3
   },
   "file_extension": ".py",
   "mimetype": "text/x-python",
   "name": "python",
   "nbconvert_exporter": "python",
   "pygments_lexer": "ipython3",
   "version": "3.9.7"
  }
 },
 "nbformat": 4,
 "nbformat_minor": 5
}
