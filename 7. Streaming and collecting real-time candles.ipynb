{
 "cells": [
  {
   "cell_type": "markdown",
   "id": "9a0e0c75",
   "metadata": {},
   "source": [
    "# Streaming and collecting real-time candles\n",
    "\n",
    "{\n",
    "  \"e\": \"kline\",     // Event type\n",
    "  \"E\": 123456789,   // Event time\n",
    "  \"s\": \"BNBBTC\",    // Symbol\n",
    "  \"k\": {\n",
    "    \"t\": 123400000, // Kline start time\n",
    "    \"T\": 123460000, // Kline close time\n",
    "    \"s\": \"BNBBTC\",  // Symbol\n",
    "    \"i\": \"1m\",      // Interval\n",
    "    \"f\": 100,       // First trade ID\n",
    "    \"L\": 200,       // Last trade ID\n",
    "    \"o\": \"0.0010\",  // Open price\n",
    "    \"c\": \"0.0020\",  // Close price\n",
    "    \"h\": \"0.0025\",  // High price\n",
    "    \"l\": \"0.0015\",  // Low price\n",
    "    \"v\": \"1000\",    // Base asset volume\n",
    "    \"n\": 100,       // Number of trades\n",
    "    \"x\": false,     // Is this kline closed?\n",
    "    \"q\": \"1.0000\",  // Quote asset volume\n",
    "    \"V\": \"500\",     // Taker buy base asset volume\n",
    "    \"Q\": \"0.500\",   // Taker buy quote asset volume\n",
    "    \"B\": \"123456\"   // Ignore\n",
    "  }\n",
    "}"
   ]
  },
  {
   "cell_type": "code",
   "execution_count": 1,
   "id": "abd4dc10",
   "metadata": {},
   "outputs": [],
   "source": [
    "api_key = \"jiaHs9nkNEzJMjNC6XtICaQMx1reQqRQapYn3LsoJeRkWpZAFwuIrSoZuDmH9O9g\"\n",
    "secret_key = \"w7z2c13PpmK4e7Y7eiwg81dCB83BHuO2bZEQNq65EQB5ByHFPABEPSamwtdxYNj2\""
   ]
  },
  {
   "cell_type": "code",
   "execution_count": 2,
   "id": "0ddf8004",
   "metadata": {},
   "outputs": [],
   "source": [
    "import pandas as pd #import pandas\n",
    "from binance import ThreadedWebsocketManager\n",
    "from binance.client import Client"
   ]
  },
  {
   "cell_type": "code",
   "execution_count": 3,
   "id": "5b4eb8cc",
   "metadata": {},
   "outputs": [],
   "source": [
    "client = Client(api_key = api_key, api_secret = secret_key, tld = \"com\")"
   ]
  },
  {
   "cell_type": "code",
   "execution_count": 4,
   "id": "343aed6c",
   "metadata": {},
   "outputs": [],
   "source": [
    "twm = ThreadedWebsocketManager()\n",
    "twm.start()"
   ]
  },
  {
   "cell_type": "code",
   "execution_count": 5,
   "id": "717b9f15",
   "metadata": {},
   "outputs": [
    {
     "data": {
      "text/html": [
       "<div>\n",
       "<style scoped>\n",
       "    .dataframe tbody tr th:only-of-type {\n",
       "        vertical-align: middle;\n",
       "    }\n",
       "\n",
       "    .dataframe tbody tr th {\n",
       "        vertical-align: top;\n",
       "    }\n",
       "\n",
       "    .dataframe thead th {\n",
       "        text-align: right;\n",
       "    }\n",
       "</style>\n",
       "<table border=\"1\" class=\"dataframe\">\n",
       "  <thead>\n",
       "    <tr style=\"text-align: right;\">\n",
       "      <th></th>\n",
       "      <th>Open</th>\n",
       "      <th>High</th>\n",
       "      <th>Low</th>\n",
       "      <th>Close</th>\n",
       "      <th>Volume</th>\n",
       "      <th>Complete</th>\n",
       "    </tr>\n",
       "  </thead>\n",
       "  <tbody>\n",
       "  </tbody>\n",
       "</table>\n",
       "</div>"
      ],
      "text/plain": [
       "Empty DataFrame\n",
       "Columns: [Open, High, Low, Close, Volume, Complete]\n",
       "Index: []"
      ]
     },
     "execution_count": 5,
     "metadata": {},
     "output_type": "execute_result"
    }
   ],
   "source": [
    "df = pd.DataFrame(columns = [\"Open\", \"High\", \"Low\", \"Close\", \"Volume\", \"Complete\"])\n",
    "df"
   ]
  },
  {
   "cell_type": "code",
   "execution_count": 6,
   "id": "eac4be2d",
   "metadata": {},
   "outputs": [],
   "source": [
    "def stream_candles(msg):\n",
    "    #extract the required message from msg\n",
    "    event_time = pd.to_datetime(msg[\"E\"], unit = \"ms\")\n",
    "    start_time = pd.to_datetime(msg[\"k\"][\"t\"], unit = \"ms\")\n",
    "    first    = float(msg[\"k\"][\"o\"])\n",
    "    high     = float(msg[\"k\"][\"h\"])\n",
    "    low      = float(msg[\"k\"][\"l\"])\n",
    "    close    = float(msg[\"k\"][\"c\"])\n",
    "    volume   = float(msg[\"k\"][\"v\"])\n",
    "    complete =       msg[\"k\"][\"x\"]\n",
    "    \n",
    "    print(\"Time: {} | Price: {}\".format(event_time, close))\n",
    "          \n",
    "    #feed df (add new bar or update latest bar to dataframe above)\n",
    "    df.loc[start_time] = [first, high, low, close, volume, complete]"
   ]
  },
  {
   "cell_type": "code",
   "execution_count": 7,
   "id": "b0325e80",
   "metadata": {},
   "outputs": [
    {
     "data": {
      "text/plain": [
       "'btcusdt@kline_1m'"
      ]
     },
     "execution_count": 7,
     "metadata": {},
     "output_type": "execute_result"
    },
    {
     "name": "stdout",
     "output_type": "stream",
     "text": [
      "Time: 2022-02-02 09:11:40.928000 | Price: 38407.85\n",
      "Time: 2022-02-02 09:11:42.944000 | Price: 38410.88\n",
      "Time: 2022-02-02 09:11:44.975000 | Price: 38416.65\n",
      "Time: 2022-02-02 09:11:47.359000 | Price: 38421.82\n",
      "Time: 2022-02-02 09:11:49.956000 | Price: 38421.81\n",
      "Time: 2022-02-02 09:11:52.126000 | Price: 38421.77\n",
      "Time: 2022-02-02 09:11:54.974000 | Price: 38410.29\n",
      "Time: 2022-02-02 09:11:57.258000 | Price: 38401.08\n",
      "Time: 2022-02-02 09:11:59.734000 | Price: 38404.46\n",
      "Time: 2022-02-02 09:12:00.002000 | Price: 38404.47\n",
      "Time: 2022-02-02 09:12:02.296000 | Price: 38402.32\n",
      "Time: 2022-02-02 09:12:04.907000 | Price: 38394.38\n",
      "Time: 2022-02-02 09:12:07.001000 | Price: 38402.33\n",
      "Time: 2022-02-02 09:12:09.126000 | Price: 38402.33\n",
      "Time: 2022-02-02 09:12:11.148000 | Price: 38393.3\n",
      "Time: 2022-02-02 09:12:14.031000 | Price: 38393.29\n",
      "Time: 2022-02-02 09:12:16.066000 | Price: 38393.3\n",
      "Time: 2022-02-02 09:12:18.125000 | Price: 38392.93\n",
      "Time: 2022-02-02 09:12:21.068000 | Price: 38388.0\n",
      "Time: 2022-02-02 09:12:23.809000 | Price: 38392.59\n",
      "Time: 2022-02-02 09:12:27.093000 | Price: 38392.58\n",
      "Time: 2022-02-02 09:12:29.442000 | Price: 38394.87\n",
      "Time: 2022-02-02 09:12:31.505000 | Price: 38394.87\n",
      "Time: 2022-02-02 09:12:33.670000 | Price: 38410.84\n",
      "Time: 2022-02-02 09:12:35.982000 | Price: 38401.9\n",
      "Time: 2022-02-02 09:12:38.139000 | Price: 38401.9\n",
      "Time: 2022-02-02 09:12:40.199000 | Price: 38401.89\n",
      "Time: 2022-02-02 09:12:42.497000 | Price: 38409.64\n",
      "Time: 2022-02-02 09:12:45.184000 | Price: 38407.66\n",
      "Time: 2022-02-02 09:12:47.495000 | Price: 38410.84\n",
      "Time: 2022-02-02 09:12:49.512000 | Price: 38410.84\n",
      "Time: 2022-02-02 09:12:52.101000 | Price: 38407.09\n",
      "Time: 2022-02-02 09:12:54.207000 | Price: 38411.96\n",
      "Time: 2022-02-02 09:12:56.265000 | Price: 38408.78\n",
      "Time: 2022-02-02 09:12:58.331000 | Price: 38414.0\n",
      "Time: 2022-02-02 09:13:00.001000 | Price: 38427.08\n",
      "Time: 2022-02-02 09:13:02.236000 | Price: 38421.58\n"
     ]
    }
   ],
   "source": [
    "twm.start_kline_socket(callback = stream_candles, symbol = \"BTCUSDT\", interval = \"1m\")"
   ]
  },
  {
   "cell_type": "code",
   "execution_count": 9,
   "id": "28014fbd",
   "metadata": {},
   "outputs": [
    {
     "name": "stdout",
     "output_type": "stream",
     "text": [
      "Time: 2022-02-02 09:13:13.703000 | Price: 38431.42\n"
     ]
    }
   ],
   "source": [
    "twm.stop()"
   ]
  },
  {
   "cell_type": "code",
   "execution_count": 10,
   "id": "ae073eae",
   "metadata": {},
   "outputs": [
    {
     "data": {
      "text/html": [
       "<div>\n",
       "<style scoped>\n",
       "    .dataframe tbody tr th:only-of-type {\n",
       "        vertical-align: middle;\n",
       "    }\n",
       "\n",
       "    .dataframe tbody tr th {\n",
       "        vertical-align: top;\n",
       "    }\n",
       "\n",
       "    .dataframe thead th {\n",
       "        text-align: right;\n",
       "    }\n",
       "</style>\n",
       "<table border=\"1\" class=\"dataframe\">\n",
       "  <thead>\n",
       "    <tr style=\"text-align: right;\">\n",
       "      <th></th>\n",
       "      <th>Open</th>\n",
       "      <th>High</th>\n",
       "      <th>Low</th>\n",
       "      <th>Close</th>\n",
       "      <th>Volume</th>\n",
       "      <th>Complete</th>\n",
       "    </tr>\n",
       "  </thead>\n",
       "  <tbody>\n",
       "    <tr>\n",
       "      <th>2022-02-02 09:11:00</th>\n",
       "      <td>38439.21</td>\n",
       "      <td>38439.21</td>\n",
       "      <td>38401.08</td>\n",
       "      <td>38404.47</td>\n",
       "      <td>12.00705</td>\n",
       "      <td>True</td>\n",
       "    </tr>\n",
       "    <tr>\n",
       "      <th>2022-02-02 09:12:00</th>\n",
       "      <td>38404.47</td>\n",
       "      <td>38427.09</td>\n",
       "      <td>38388.00</td>\n",
       "      <td>38427.08</td>\n",
       "      <td>7.70179</td>\n",
       "      <td>True</td>\n",
       "    </tr>\n",
       "    <tr>\n",
       "      <th>2022-02-02 09:13:00</th>\n",
       "      <td>38427.08</td>\n",
       "      <td>38431.42</td>\n",
       "      <td>38414.43</td>\n",
       "      <td>38431.42</td>\n",
       "      <td>3.56682</td>\n",
       "      <td>False</td>\n",
       "    </tr>\n",
       "  </tbody>\n",
       "</table>\n",
       "</div>"
      ],
      "text/plain": [
       "                         Open      High       Low     Close    Volume Complete\n",
       "2022-02-02 09:11:00  38439.21  38439.21  38401.08  38404.47  12.00705     True\n",
       "2022-02-02 09:12:00  38404.47  38427.09  38388.00  38427.08   7.70179     True\n",
       "2022-02-02 09:13:00  38427.08  38431.42  38414.43  38431.42   3.56682    False"
      ]
     },
     "execution_count": 10,
     "metadata": {},
     "output_type": "execute_result"
    }
   ],
   "source": [
    "df"
   ]
  },
  {
   "cell_type": "code",
   "execution_count": 11,
   "id": "10c0c6c8",
   "metadata": {},
   "outputs": [
    {
     "name": "stdout",
     "output_type": "stream",
     "text": [
      "<class 'pandas.core.frame.DataFrame'>\n",
      "DatetimeIndex: 3 entries, 2022-02-02 09:11:00 to 2022-02-02 09:13:00\n",
      "Data columns (total 6 columns):\n",
      " #   Column    Non-Null Count  Dtype  \n",
      "---  ------    --------------  -----  \n",
      " 0   Open      3 non-null      float64\n",
      " 1   High      3 non-null      float64\n",
      " 2   Low       3 non-null      float64\n",
      " 3   Close     3 non-null      float64\n",
      " 4   Volume    3 non-null      float64\n",
      " 5   Complete  3 non-null      object \n",
      "dtypes: float64(5), object(1)\n",
      "memory usage: 276.0+ bytes\n"
     ]
    }
   ],
   "source": [
    "df.info()"
   ]
  },
  {
   "cell_type": "code",
   "execution_count": null,
   "id": "e0653582",
   "metadata": {},
   "outputs": [],
   "source": []
  }
 ],
 "metadata": {
  "kernelspec": {
   "display_name": "Python 3 (ipykernel)",
   "language": "python",
   "name": "python3"
  },
  "language_info": {
   "codemirror_mode": {
    "name": "ipython",
    "version": 3
   },
   "file_extension": ".py",
   "mimetype": "text/x-python",
   "name": "python",
   "nbconvert_exporter": "python",
   "pygments_lexer": "ipython3",
   "version": "3.9.7"
  }
 },
 "nbformat": 4,
 "nbformat_minor": 5
}
