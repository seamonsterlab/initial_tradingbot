{
 "cells": [
  {
   "cell_type": "markdown",
   "id": "498fee69",
   "metadata": {},
   "source": [
    "testnet api and secret key"
   ]
  },
  {
   "cell_type": "code",
   "execution_count": 1,
   "id": "94382c9f",
   "metadata": {},
   "outputs": [],
   "source": [
    "from binance.client import Client"
   ]
  },
  {
   "cell_type": "code",
   "execution_count": 2,
   "id": "abd4dc10",
   "metadata": {},
   "outputs": [],
   "source": [
    "api_key = \"buUnMcPxqSpvPRhsVjJbMDTwDFw9YV3PFak7X7DVLgO0f23dyygUK4dVQJs01KyU\"\n",
    "secret_key = \"aWCeW3MITMn5cSDURGrAGX7ZkbHMQGEPLk6JqGROQfsOKjFA8uc9GHaRIOCfTfoq\""
   ]
  },
  {
   "cell_type": "code",
   "execution_count": 3,
   "id": "2fc8ab42",
   "metadata": {},
   "outputs": [],
   "source": [
    "client = Client(api_key = api_key, api_secret = secret_key, tld = \"com\", testnet = True)\n",
    "#testnet"
   ]
  },
  {
   "cell_type": "markdown",
   "id": "602eb738",
   "metadata": {},
   "source": [
    "TESTNET ACCOUNT: TRUE // REAL ACCOUNT: FALSE"
   ]
  },
  {
   "cell_type": "code",
   "execution_count": 4,
   "id": "eca743db",
   "metadata": {},
   "outputs": [
    {
     "data": {
      "text/plain": [
       "<binance.client.Client at 0x7feb92455130>"
      ]
     },
     "execution_count": 4,
     "metadata": {},
     "output_type": "execute_result"
    }
   ],
   "source": [
    "client"
   ]
  },
  {
   "cell_type": "code",
   "execution_count": 5,
   "id": "3cce2fba",
   "metadata": {},
   "outputs": [
    {
     "data": {
      "text/plain": [
       "{'makerCommission': 0,\n",
       " 'takerCommission': 0,\n",
       " 'buyerCommission': 0,\n",
       " 'sellerCommission': 0,\n",
       " 'canTrade': True,\n",
       " 'canWithdraw': False,\n",
       " 'canDeposit': False,\n",
       " 'updateTime': 1643799903337,\n",
       " 'accountType': 'SPOT',\n",
       " 'balances': [{'asset': 'BNB',\n",
       "   'free': '1000.00000000',\n",
       "   'locked': '0.00000000'},\n",
       "  {'asset': 'BTC', 'free': '1.00000000', 'locked': '0.00000000'},\n",
       "  {'asset': 'BUSD', 'free': '10000.00000000', 'locked': '0.00000000'},\n",
       "  {'asset': 'ETH', 'free': '100.00000000', 'locked': '0.00000000'},\n",
       "  {'asset': 'LTC', 'free': '500.00000000', 'locked': '0.00000000'},\n",
       "  {'asset': 'TRX', 'free': '500000.00000000', 'locked': '0.00000000'},\n",
       "  {'asset': 'USDT', 'free': '10000.00000000', 'locked': '0.00000000'},\n",
       "  {'asset': 'XRP', 'free': '50000.00000000', 'locked': '0.00000000'}],\n",
       " 'permissions': ['SPOT']}"
      ]
     },
     "execution_count": 5,
     "metadata": {},
     "output_type": "execute_result"
    }
   ],
   "source": [
    "client.get_account() #testnet account details"
   ]
  },
  {
   "cell_type": "code",
   "execution_count": null,
   "id": "4c8a34e7",
   "metadata": {},
   "outputs": [],
   "source": []
  }
 ],
 "metadata": {
  "kernelspec": {
   "display_name": "Python 3 (ipykernel)",
   "language": "python",
   "name": "python3"
  },
  "language_info": {
   "codemirror_mode": {
    "name": "ipython",
    "version": 3
   },
   "file_extension": ".py",
   "mimetype": "text/x-python",
   "name": "python",
   "nbconvert_exporter": "python",
   "pygments_lexer": "ipython3",
   "version": "3.9.7"
  }
 },
 "nbformat": 4,
 "nbformat_minor": 5
}
